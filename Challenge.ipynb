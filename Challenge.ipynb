{
 "cells": [
  {
   "cell_type": "code",
   "execution_count": 1,
   "id": "587f8f69-5929-4ddd-992c-e04c4ea212f3",
   "metadata": {},
   "outputs": [],
   "source": [
    "strategies=['Rock','Paper','Scissors']"
   ]
  },
  {
   "cell_type": "code",
   "execution_count": 2,
   "id": "b1c955b0-6eee-4a81-9fe1-e2be46c2c044",
   "metadata": {},
   "outputs": [],
   "source": [
    "#Hacemos un diccionario con las reglas\n",
    "payoff={('Rock','Paper'):(0,1),\n",
    "        ('Paper','Rock'):(1,0),\n",
    "        ('Rock','Scissors'):(1,0),\n",
    "        ('Scissors','Rock'):(0,1),\n",
    "        ('Paper','Scissors'):(0,1),\n",
    "        ('Scissors','Paper'):(1,0),\n",
    "        ('Rock','Rock'):(0,0),\n",
    "        ('Paper','Paper'):(0,0),\n",
    "        ('Scissors','Scissors'):(0,0)}"
   ]
  },
  {
   "cell_type": "code",
   "execution_count": 3,
   "id": "cb0817ce-7be0-4113-be5b-4177ad2c7156",
   "metadata": {},
   "outputs": [],
   "source": [
    "# names of players\n",
    "names=['Jim','Peter','Zoe', 'Rose','Juan','Karen','Alexander','Jimmy','Tadeo','Antonio']"
   ]
  },
  {
   "cell_type": "code",
   "execution_count": 4,
   "id": "4503e3aa-c10b-4a27-8e22-6c4b47bc46cf",
   "metadata": {},
   "outputs": [],
   "source": [
    "from random import choice\n",
    "\n",
    "#simplest strategy: choose randomly\n",
    "choice(strategies); #el punto y coma es para que no se vea el resultado"
   ]
  },
  {
   "cell_type": "code",
   "execution_count": 5,
   "id": "d8826659-e36b-4af0-b17c-864879519f05",
   "metadata": {},
   "outputs": [],
   "source": [
    "# setting up players\n",
    "society=[{'name':n,'score':0,'strategy':None} for n in names]"
   ]
  },
  {
   "cell_type": "code",
   "execution_count": 6,
   "id": "618116bc-1187-4510-b61f-f6dd010768d7",
   "metadata": {},
   "outputs": [
    {
     "data": {
      "text/plain": [
       "[{'name': 'Jim', 'score': 0, 'strategy': None},\n",
       " {'name': 'Peter', 'score': 0, 'strategy': None},\n",
       " {'name': 'Zoe', 'score': 0, 'strategy': None},\n",
       " {'name': 'Rose', 'score': 0, 'strategy': None},\n",
       " {'name': 'Juan', 'score': 0, 'strategy': None},\n",
       " {'name': 'Karen', 'score': 0, 'strategy': None},\n",
       " {'name': 'Alexander', 'score': 0, 'strategy': None},\n",
       " {'name': 'Jimmy', 'score': 0, 'strategy': None},\n",
       " {'name': 'Tadeo', 'score': 0, 'strategy': None},\n",
       " {'name': 'Antonio', 'score': 0, 'strategy': None}]"
      ]
     },
     "execution_count": 6,
     "metadata": {},
     "output_type": "execute_result"
    }
   ],
   "source": [
    "# each player a dict:\n",
    "society"
   ]
  },
  {
   "cell_type": "code",
   "execution_count": 7,
   "id": "1757bcc7-cf2b-46e9-a84a-c639aedd9bd2",
   "metadata": {},
   "outputs": [
    {
     "name": "stdout",
     "output_type": "stream",
     "text": [
      "{'name': 'Jim', 'score': 0, 'strategy': None} {'name': 'Peter', 'score': 0, 'strategy': None}\n",
      "{'name': 'Jim', 'score': 0, 'strategy': None} {'name': 'Zoe', 'score': 0, 'strategy': None}\n",
      "{'name': 'Jim', 'score': 0, 'strategy': None} {'name': 'Rose', 'score': 0, 'strategy': None}\n",
      "{'name': 'Jim', 'score': 0, 'strategy': None} {'name': 'Juan', 'score': 0, 'strategy': None}\n",
      "{'name': 'Jim', 'score': 0, 'strategy': None} {'name': 'Karen', 'score': 0, 'strategy': None}\n",
      "{'name': 'Jim', 'score': 0, 'strategy': None} {'name': 'Alexander', 'score': 0, 'strategy': None}\n",
      "{'name': 'Jim', 'score': 0, 'strategy': None} {'name': 'Jimmy', 'score': 0, 'strategy': None}\n",
      "{'name': 'Jim', 'score': 0, 'strategy': None} {'name': 'Tadeo', 'score': 0, 'strategy': None}\n",
      "{'name': 'Jim', 'score': 0, 'strategy': None} {'name': 'Antonio', 'score': 0, 'strategy': None}\n",
      "{'name': 'Peter', 'score': 0, 'strategy': None} {'name': 'Zoe', 'score': 0, 'strategy': None}\n",
      "{'name': 'Peter', 'score': 0, 'strategy': None} {'name': 'Rose', 'score': 0, 'strategy': None}\n",
      "{'name': 'Peter', 'score': 0, 'strategy': None} {'name': 'Juan', 'score': 0, 'strategy': None}\n",
      "{'name': 'Peter', 'score': 0, 'strategy': None} {'name': 'Karen', 'score': 0, 'strategy': None}\n",
      "{'name': 'Peter', 'score': 0, 'strategy': None} {'name': 'Alexander', 'score': 0, 'strategy': None}\n",
      "{'name': 'Peter', 'score': 0, 'strategy': None} {'name': 'Jimmy', 'score': 0, 'strategy': None}\n",
      "{'name': 'Peter', 'score': 0, 'strategy': None} {'name': 'Tadeo', 'score': 0, 'strategy': None}\n",
      "{'name': 'Peter', 'score': 0, 'strategy': None} {'name': 'Antonio', 'score': 0, 'strategy': None}\n",
      "{'name': 'Zoe', 'score': 0, 'strategy': None} {'name': 'Rose', 'score': 0, 'strategy': None}\n",
      "{'name': 'Zoe', 'score': 0, 'strategy': None} {'name': 'Juan', 'score': 0, 'strategy': None}\n",
      "{'name': 'Zoe', 'score': 0, 'strategy': None} {'name': 'Karen', 'score': 0, 'strategy': None}\n",
      "{'name': 'Zoe', 'score': 0, 'strategy': None} {'name': 'Alexander', 'score': 0, 'strategy': None}\n",
      "{'name': 'Zoe', 'score': 0, 'strategy': None} {'name': 'Jimmy', 'score': 0, 'strategy': None}\n",
      "{'name': 'Zoe', 'score': 0, 'strategy': None} {'name': 'Tadeo', 'score': 0, 'strategy': None}\n",
      "{'name': 'Zoe', 'score': 0, 'strategy': None} {'name': 'Antonio', 'score': 0, 'strategy': None}\n",
      "{'name': 'Rose', 'score': 0, 'strategy': None} {'name': 'Juan', 'score': 0, 'strategy': None}\n",
      "{'name': 'Rose', 'score': 0, 'strategy': None} {'name': 'Karen', 'score': 0, 'strategy': None}\n",
      "{'name': 'Rose', 'score': 0, 'strategy': None} {'name': 'Alexander', 'score': 0, 'strategy': None}\n",
      "{'name': 'Rose', 'score': 0, 'strategy': None} {'name': 'Jimmy', 'score': 0, 'strategy': None}\n",
      "{'name': 'Rose', 'score': 0, 'strategy': None} {'name': 'Tadeo', 'score': 0, 'strategy': None}\n",
      "{'name': 'Rose', 'score': 0, 'strategy': None} {'name': 'Antonio', 'score': 0, 'strategy': None}\n",
      "{'name': 'Juan', 'score': 0, 'strategy': None} {'name': 'Karen', 'score': 0, 'strategy': None}\n",
      "{'name': 'Juan', 'score': 0, 'strategy': None} {'name': 'Alexander', 'score': 0, 'strategy': None}\n",
      "{'name': 'Juan', 'score': 0, 'strategy': None} {'name': 'Jimmy', 'score': 0, 'strategy': None}\n",
      "{'name': 'Juan', 'score': 0, 'strategy': None} {'name': 'Tadeo', 'score': 0, 'strategy': None}\n",
      "{'name': 'Juan', 'score': 0, 'strategy': None} {'name': 'Antonio', 'score': 0, 'strategy': None}\n",
      "{'name': 'Karen', 'score': 0, 'strategy': None} {'name': 'Alexander', 'score': 0, 'strategy': None}\n",
      "{'name': 'Karen', 'score': 0, 'strategy': None} {'name': 'Jimmy', 'score': 0, 'strategy': None}\n",
      "{'name': 'Karen', 'score': 0, 'strategy': None} {'name': 'Tadeo', 'score': 0, 'strategy': None}\n",
      "{'name': 'Karen', 'score': 0, 'strategy': None} {'name': 'Antonio', 'score': 0, 'strategy': None}\n",
      "{'name': 'Alexander', 'score': 0, 'strategy': None} {'name': 'Jimmy', 'score': 0, 'strategy': None}\n",
      "{'name': 'Alexander', 'score': 0, 'strategy': None} {'name': 'Tadeo', 'score': 0, 'strategy': None}\n",
      "{'name': 'Alexander', 'score': 0, 'strategy': None} {'name': 'Antonio', 'score': 0, 'strategy': None}\n",
      "{'name': 'Jimmy', 'score': 0, 'strategy': None} {'name': 'Tadeo', 'score': 0, 'strategy': None}\n",
      "{'name': 'Jimmy', 'score': 0, 'strategy': None} {'name': 'Antonio', 'score': 0, 'strategy': None}\n",
      "{'name': 'Tadeo', 'score': 0, 'strategy': None} {'name': 'Antonio', 'score': 0, 'strategy': None}\n"
     ]
    }
   ],
   "source": [
    "import itertools \n",
    "\n",
    "# each dict\n",
    "for player1,player2 in itertools.combinations(society,2):\n",
    "    print(player1,player2) #aquí ya no sale como tupla"
   ]
  },
  {
   "cell_type": "code",
   "execution_count": 8,
   "id": "de419a75-1192-46d7-941a-b15ef8854d3c",
   "metadata": {},
   "outputs": [],
   "source": [
    "# resetting society\n",
    "society=[{'name':n,'score':0,'strategy':None} for n in names]\n",
    "\n",
    "# several rounds\n",
    "for aRound in range(20):\n",
    "    \n",
    "    # en each round:\n",
    "    for player1,player2 in itertools.combinations(society,2):\n",
    "        # each chooses strategy\n",
    "        player1['strategy']=choice(strategies)\n",
    "        \n",
    "        player2['strategy']=choice(strategies)\n",
    "        \n",
    "        # result from strategy chosen\n",
    "        result=payoff[player1['strategy'],player2['strategy']]\n",
    "            \n",
    "        # update scores\n",
    "        player1['score']+=result[0]\n",
    "        player2['score']+=result[1]"
   ]
  },
  {
   "cell_type": "code",
   "execution_count": null,
   "id": "2e1e2d71-436b-4f50-9752-33a325d445e5",
   "metadata": {},
   "outputs": [],
   "source": []
  },
  {
   "cell_type": "code",
   "execution_count": null,
   "id": "9ac633c8-5f58-4210-89d3-7a07b1a41694",
   "metadata": {},
   "outputs": [],
   "source": [
    "class PlayerBetter(Player):\n",
    "    def __init__(self,name,score=0):\n",
    "        Player.__init__(self,name,score=0)\n",
    "        self.strategy=None\n",
    "\n",
    "    def increase_score(self,value):\n",
    "        self.score+=value\n",
    "\n",
    "    def get_strategy(self):\n",
    "        from random import choice\n",
    "        strategies=['Rock','Paper','Scissors']\n",
    "        self.strategy=choice(strategies)\n",
    "        return self.strategy"
   ]
  },
  {
   "cell_type": "code",
   "execution_count": null,
   "id": "ae32be0e-eb48-4f41-ba11-48ebfcf4a7b3",
   "metadata": {},
   "outputs": [],
   "source": [
    "Jim=PlayerBetter(\"Jim\")\n",
    "Peter=PlayerBetter(\"Peter\")\n",
    "Zoe=PlayerBetter(\"Zoe\")\n",
    "Antonio=PlayerBetter(\"Antonio\")\n",
    "Rose=PlayerBetter(\"Rose\")\n",
    "Juan=PlayerBetter(\"Juan\")\n",
    "Karen=PlayerBetter(\"Karen\")\n",
    "Alexander=PlayerBetter(\"Alexander\")\n",
    "Jimmy=PlayerBetter(\"Jimmy\")\n",
    "Tadeo=PlayerBetter(\"Tadeo\")"
   ]
  },
  {
   "cell_type": "code",
   "execution_count": null,
   "id": "641351bd-6263-405a-b5e3-f30ca191f98b",
   "metadata": {},
   "outputs": [],
   "source": [
    "Jim_strategy=choice(strategies)\n",
    "Peter_strategy=choice(strategies)\n",
    "\n",
    "Jim_PayOff,Peter_PayOff=payoff[Jim_strategy,Peter_strategy]\n",
    "Jim_PayOff,Peter_PayOff"
   ]
  },
  {
   "cell_type": "code",
   "execution_count": null,
   "id": "b8237d0b-0093-4bda-a72c-9c4b3418009e",
   "metadata": {},
   "outputs": [],
   "source": []
  }
 ],
 "metadata": {
  "kernelspec": {
   "display_name": "Python 3 (ipykernel)",
   "language": "python",
   "name": "python3"
  },
  "language_info": {
   "codemirror_mode": {
    "name": "ipython",
    "version": 3
   },
   "file_extension": ".py",
   "mimetype": "text/x-python",
   "name": "python",
   "nbconvert_exporter": "python",
   "pygments_lexer": "ipython3",
   "version": "3.11.7"
  }
 },
 "nbformat": 4,
 "nbformat_minor": 5
}
