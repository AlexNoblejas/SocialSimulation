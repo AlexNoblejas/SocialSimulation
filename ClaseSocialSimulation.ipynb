{
 "cells": [
  {
   "cell_type": "markdown",
   "id": "3be2707d-dc9a-4352-a6a9-105f7934dc91",
   "metadata": {},
   "source": [
    "Introducción a la simulación social. \n",
    "El análisis estadístico beneficia principalmente al estudio de distribuciones de variables/factores. Podríamos complementar ese enfoque si nos centramos en los actores que producen las variables \n",
    "\r\n",
    "Sin embargo, representar al actor no es tarea fl\n",
    "-\n",
    ":\r\n",
    "\r\n",
    "Un resultado social es un agregado complejo de actores individuales. En general, llamamos resultados sociales resultados emergentes de decisiones indiveal- es.\r\n",
    "\r\n",
    "Se ha asumido que las decisiones individuales son racionales, lo que simplifica demasiado los modelos de actores. De hecho, la toma de decisiones es un caesten e\n",
    "- udio.\r\n",
    "\r\n",
    "El procesamiento de la información de los agentes está sesgado por la \"cultura\" (creencias, experiencia) y las instituciones (reglas, hábitos). Y muchos paradigmas pueden coexistir en un grupo particular. El cambio es posible, pero la estructura social y la c ura lo\n",
    "- imitan.\r\n",
    "\r\n",
    "Las acciones y decisiones de los actores ocurren dentro de una red de agentes. Un actor puede formar parte de varias redes.\r\n",
    "\r\n",
    "El campo relacionado con este estudio es la Ciencia Social Computacional. La metodología particular es el modelado basadlas opciones disponibles:"
   ]
  },
  {
   "cell_type": "markdown",
   "id": "d23403c4-2805-4fb3-b70b-fef5d01d93a4",
   "metadata": {},
   "source": [
    "Un juego sencillo como ejemplo.\n",
    "Según WIKIPEDIA, el juego Piedra, Papel, Tijera es un juego simultáneo de suma cero, con tres resultados posibles: empate, victo- ria o derrota:\n",
    "\n",
    "Un jugador que decida jugar ROCK vencerá a otro jugador que elija TIJERAS (\"la piedra aplasta las tijeras\" o \"rompe las tijeras\")\n",
    "Un jugador que decida jugar ROCK perderá frente a otro que haya jugado PAPEL (\"el papel cubre la piedra\")\n",
    "Un jugador que decida jugar PAPEL perderá con una jugada de TIJERAS (\"tijeras corta papel\").\n",
    "Si ambos jugadores eligen la misma forma, el juego está empatado."
   ]
  },
  {
   "cell_type": "markdown",
   "id": "a77d9f2a-f52a-495f-8eeb-cc8c7bff588d",
   "metadata": {},
   "source": [
    "Representemos el juego:\n",
    "\n",
    "Estrategias\n",
    "Las estrategias son las opciones disponibles:"
   ]
  },
  {
   "cell_type": "code",
   "execution_count": 19,
   "id": "d9f47e24-82d9-4bfd-b44f-87f20ffd78cb",
   "metadata": {},
   "outputs": [],
   "source": [
    "strategies=['Rock','Paper','Scissors']"
   ]
  },
  {
   "cell_type": "markdown",
   "id": "f61547e6-2f0e-4757-b87a-1316953de12b",
   "metadata": {},
   "source": [
    "Rules\n",
    "The rules tell you that according to a strategy followed, players get a pay-off:"
   ]
  },
  {
   "cell_type": "code",
   "execution_count": 20,
   "id": "766a4002-0598-465c-950c-26f440bbcf03",
   "metadata": {},
   "outputs": [],
   "source": [
    "#Hacemos un diccionario con las reglas\n",
    "payoff={('Rock','Paper'):(0,1),\n",
    "        ('Paper','Rock'):(1,0),\n",
    "        ('Rock','Scissors'):(1,0),\n",
    "        ('Scissors','Rock'):(0,1),\n",
    "        ('Paper','Scissors'):(0,1),\n",
    "        ('Scissors','Paper'):(1,0),\n",
    "        ('Rock','Rock'):(0,0),\n",
    "        ('Paper','Paper'):(0,0),\n",
    "        ('Scissors','Scissors'):(0,0)}"
   ]
  },
  {
   "cell_type": "markdown",
   "id": "3c249adc-39a5-462a-b08d-1a2b7fc96ad0",
   "metadata": {},
   "source": [
    "Creating and setting up agents:\n",
    "Players have a name, but have no score, and no strategy yet."
   ]
  },
  {
   "cell_type": "code",
   "execution_count": 21,
   "id": "6a03dd3d-ef46-4a1d-90ac-9237dd6b06fa",
   "metadata": {},
   "outputs": [],
   "source": [
    "#Cada jugador es un diccionario\n",
    "Players=[{'name':'John','score':0,'strategy':None},\n",
    "         {'name':'Mary','score':0,'strategy':None}]"
   ]
  },
  {
   "cell_type": "markdown",
   "id": "d2b09cf6-eebd-4c35-a3f1-f765746fb532",
   "metadata": {},
   "source": [
    "Decision making process\n",
    "This is the process to choose an strategy:"
   ]
  },
  {
   "cell_type": "code",
   "execution_count": 24,
   "id": "48933c48-3951-4ab5-87d1-e8746c5630c0",
   "metadata": {},
   "outputs": [],
   "source": [
    "from random import choice\n",
    "\n",
    "#simplest strategy: choose randomly\n",
    "choice(strategies); #el punto y coma es para que no se vea el resultado"
   ]
  },
  {
   "cell_type": "markdown",
   "id": "3cfeaf49-26a3-4ff0-9f04-2c5c80e51ca1",
   "metadata": {},
   "source": [
    "The moment of truth\n",
    "agent decide strategy"
   ]
  },
  {
   "cell_type": "code",
   "execution_count": 25,
   "id": "299a7487-0f3d-4e40-8bec-5b1ca4a71701",
   "metadata": {},
   "outputs": [],
   "source": [
    "Players[0]['strategy']=choice(strategies)\n",
    "Players[1]['strategy']=choice(strategies)"
   ]
  },
  {
   "cell_type": "markdown",
   "id": "18ab3b9c-ad85-4b96-a3a1-3356895af876",
   "metadata": {},
   "source": [
    "decisions made"
   ]
  },
  {
   "cell_type": "code",
   "execution_count": 26,
   "id": "3814ebf8-dc0e-4de0-a41f-9cb4c688857a",
   "metadata": {},
   "outputs": [
    {
     "data": {
      "text/plain": [
       "('Scissors', 'Rock')"
      ]
     },
     "execution_count": 26,
     "metadata": {},
     "output_type": "execute_result"
    }
   ],
   "source": [
    "Players[0]['strategy'],Players[1]['strategy']"
   ]
  },
  {
   "cell_type": "code",
   "execution_count": 27,
   "id": "b4062146-83fa-475d-9964-e498240c7265",
   "metadata": {},
   "outputs": [
    {
     "data": {
      "text/plain": [
       "(0, 1)"
      ]
     },
     "execution_count": 27,
     "metadata": {},
     "output_type": "execute_result"
    }
   ],
   "source": [
    "# social result of individual decision\n",
    "result = payoff[Players[0]['strategy'],Players[1]['strategy']]\n",
    "result"
   ]
  },
  {
   "cell_type": "markdown",
   "id": "bafe778a-7be2-4312-988a-21e53fba19ce",
   "metadata": {},
   "source": [
    "agent benefits/suffers from decision made"
   ]
  },
  {
   "cell_type": "code",
   "execution_count": 28,
   "id": "9df3547c-a2d6-4f45-99b4-0cf9af8dd048",
   "metadata": {},
   "outputs": [],
   "source": [
    "# update agents situation\n",
    "Players[0]['score']+=result[0]\n",
    "Players[1]['score']+=result[1]"
   ]
  },
  {
   "cell_type": "code",
   "execution_count": 29,
   "id": "4b13db53-acc8-4b57-bb25-700cefcff71f",
   "metadata": {},
   "outputs": [
    {
     "data": {
      "text/plain": [
       "[{'name': 'John', 'score': 0, 'strategy': 'Scissors'},\n",
       " {'name': 'Mary', 'score': 1, 'strategy': 'Rock'}]"
      ]
     },
     "execution_count": 29,
     "metadata": {},
     "output_type": "execute_result"
    }
   ],
   "source": [
    "# current agent situation\n",
    "Players #para ver la situación actual de los jugadores o población"
   ]
  },
  {
   "cell_type": "markdown",
   "id": "d51fc6b3-03fd-433c-b5de-7614dac39609",
   "metadata": {},
   "source": [
    "social outcome"
   ]
  },
  {
   "cell_type": "code",
   "execution_count": 30,
   "id": "07018dd6-537a-4cfd-9eb3-c9e6713478f3",
   "metadata": {},
   "outputs": [
    {
     "data": {
      "text/html": [
       "<div>\n",
       "<style scoped>\n",
       "    .dataframe tbody tr th:only-of-type {\n",
       "        vertical-align: middle;\n",
       "    }\n",
       "\n",
       "    .dataframe tbody tr th {\n",
       "        vertical-align: top;\n",
       "    }\n",
       "\n",
       "    .dataframe thead th {\n",
       "        text-align: right;\n",
       "    }\n",
       "</style>\n",
       "<table border=\"1\" class=\"dataframe\">\n",
       "  <thead>\n",
       "    <tr style=\"text-align: right;\">\n",
       "      <th></th>\n",
       "      <th>name</th>\n",
       "      <th>score</th>\n",
       "      <th>strategy</th>\n",
       "    </tr>\n",
       "  </thead>\n",
       "  <tbody>\n",
       "    <tr>\n",
       "      <th>0</th>\n",
       "      <td>John</td>\n",
       "      <td>0</td>\n",
       "      <td>Scissors</td>\n",
       "    </tr>\n",
       "    <tr>\n",
       "      <th>1</th>\n",
       "      <td>Mary</td>\n",
       "      <td>1</td>\n",
       "      <td>Rock</td>\n",
       "    </tr>\n",
       "  </tbody>\n",
       "</table>\n",
       "</div>"
      ],
      "text/plain": [
       "   name  score  strategy\n",
       "0  John      0  Scissors\n",
       "1  Mary      1      Rock"
      ]
     },
     "execution_count": 30,
     "metadata": {},
     "output_type": "execute_result"
    }
   ],
   "source": [
    "import pandas as pd \n",
    "\n",
    "socialResults=pd.DataFrame((Players[0], Players[1]))\n",
    "socialResults"
   ]
  },
  {
   "cell_type": "code",
   "execution_count": 31,
   "id": "882808fe-561f-49be-83c8-eb96603b2e5f",
   "metadata": {},
   "outputs": [
    {
     "data": {
      "text/html": [
       "<div>\n",
       "<style scoped>\n",
       "    .dataframe tbody tr th:only-of-type {\n",
       "        vertical-align: middle;\n",
       "    }\n",
       "\n",
       "    .dataframe tbody tr th {\n",
       "        vertical-align: top;\n",
       "    }\n",
       "\n",
       "    .dataframe thead th {\n",
       "        text-align: right;\n",
       "    }\n",
       "</style>\n",
       "<table border=\"1\" class=\"dataframe\">\n",
       "  <thead>\n",
       "    <tr style=\"text-align: right;\">\n",
       "      <th></th>\n",
       "      <th>name</th>\n",
       "      <th>score</th>\n",
       "      <th>strategy</th>\n",
       "    </tr>\n",
       "  </thead>\n",
       "  <tbody>\n",
       "    <tr>\n",
       "      <th>1</th>\n",
       "      <td>Mary</td>\n",
       "      <td>1</td>\n",
       "      <td>Rock</td>\n",
       "    </tr>\n",
       "  </tbody>\n",
       "</table>\n",
       "</div>"
      ],
      "text/plain": [
       "   name  score strategy\n",
       "1  Mary      1     Rock"
      ]
     },
     "execution_count": 31,
     "metadata": {},
     "output_type": "execute_result"
    }
   ],
   "source": [
    "winnerScore=socialResults.score.max()\n",
    "#Para saber quién es el ganador\n",
    "#social outcome\n",
    "socialResults[socialResults.score==winnerScore]"
   ]
  },
  {
   "cell_type": "markdown",
   "id": "7db5fb97-85a9-436f-8b75-336fe46f6b49",
   "metadata": {},
   "source": [
    "More players"
   ]
  },
  {
   "cell_type": "code",
   "execution_count": 32,
   "id": "d5fc7fa7-7aaa-4a70-a295-0507146f1f4e",
   "metadata": {},
   "outputs": [],
   "source": [
    "# names of players\n",
    "names=['Jim','Jane','Peter','Zoe']"
   ]
  },
  {
   "cell_type": "code",
   "execution_count": 33,
   "id": "b7e0b2d7-5543-44b5-95b9-9007203702e1",
   "metadata": {},
   "outputs": [],
   "source": [
    "# setting up players\n",
    "society=[{'name':n,'score':0,'strategy':None} for n in names]"
   ]
  },
  {
   "cell_type": "code",
   "execution_count": 34,
   "id": "ec440d0d-0eeb-4aa3-9852-96d10d12d2bb",
   "metadata": {},
   "outputs": [
    {
     "data": {
      "text/plain": [
       "[{'name': 'Jim', 'score': 0, 'strategy': None},\n",
       " {'name': 'Jane', 'score': 0, 'strategy': None},\n",
       " {'name': 'Peter', 'score': 0, 'strategy': None},\n",
       " {'name': 'Zoe', 'score': 0, 'strategy': None}]"
      ]
     },
     "execution_count": 34,
     "metadata": {},
     "output_type": "execute_result"
    }
   ],
   "source": [
    "# each player a dict:\n",
    "society"
   ]
  },
  {
   "cell_type": "code",
   "execution_count": 36,
   "id": "5e4c2dbf-8323-4812-bb92-09125fcdea09",
   "metadata": {},
   "outputs": [
    {
     "name": "stdout",
     "output_type": "stream",
     "text": [
      "({'name': 'Jim', 'score': 0, 'strategy': None}, {'name': 'Jane', 'score': 0, 'strategy': None})\n",
      "({'name': 'Jim', 'score': 0, 'strategy': None}, {'name': 'Peter', 'score': 0, 'strategy': None})\n",
      "({'name': 'Jim', 'score': 0, 'strategy': None}, {'name': 'Zoe', 'score': 0, 'strategy': None})\n",
      "({'name': 'Jane', 'score': 0, 'strategy': None}, {'name': 'Peter', 'score': 0, 'strategy': None})\n",
      "({'name': 'Jane', 'score': 0, 'strategy': None}, {'name': 'Zoe', 'score': 0, 'strategy': None})\n",
      "({'name': 'Peter', 'score': 0, 'strategy': None}, {'name': 'Zoe', 'score': 0, 'strategy': None})\n"
     ]
    }
   ],
   "source": [
    "import itertools \n",
    "\n",
    "# pair is a tuple of dicts\n",
    "for pair in itertools.combinations(society,2):\n",
    "    print(pair) #los resultados será tuplas"
   ]
  },
  {
   "cell_type": "code",
   "execution_count": 37,
   "id": "43d38d03-5a3d-4f75-8edc-ae369b70b523",
   "metadata": {},
   "outputs": [
    {
     "name": "stdout",
     "output_type": "stream",
     "text": [
      "{'name': 'Jim', 'score': 0, 'strategy': None} {'name': 'Jane', 'score': 0, 'strategy': None}\n",
      "{'name': 'Jim', 'score': 0, 'strategy': None} {'name': 'Peter', 'score': 0, 'strategy': None}\n",
      "{'name': 'Jim', 'score': 0, 'strategy': None} {'name': 'Zoe', 'score': 0, 'strategy': None}\n",
      "{'name': 'Jane', 'score': 0, 'strategy': None} {'name': 'Peter', 'score': 0, 'strategy': None}\n",
      "{'name': 'Jane', 'score': 0, 'strategy': None} {'name': 'Zoe', 'score': 0, 'strategy': None}\n",
      "{'name': 'Peter', 'score': 0, 'strategy': None} {'name': 'Zoe', 'score': 0, 'strategy': None}\n"
     ]
    }
   ],
   "source": [
    "import itertools \n",
    "\n",
    "# each dict\n",
    "for player1,player2 in itertools.combinations(society,2):\n",
    "    print(player1,player2) #aquí ya no sale como tupla"
   ]
  },
  {
   "cell_type": "code",
   "execution_count": 42,
   "id": "4d374940-fbd6-468b-a855-c496c07b41a9",
   "metadata": {},
   "outputs": [],
   "source": [
    "# resetting society\n",
    "society=[{'name':n,'score':0,'strategy':None} for n in names]\n",
    "\n",
    "# several rounds\n",
    "for aRound in range(50):\n",
    "    \n",
    "    # en each round:\n",
    "    for player1,player2 in itertools.combinations(society,2):\n",
    "        # each chooses strategy\n",
    "        player1['strategy']=choice(strategies)\n",
    "        \n",
    "        player2['strategy']=choice(strategies)\n",
    "        \n",
    "        # result from strategy chosen\n",
    "        result=payoff[player1['strategy'],player2['strategy']]\n",
    "            \n",
    "        # update scores\n",
    "        player1['score']+=result[0]\n",
    "        player2['score']+=result[1]"
   ]
  },
  {
   "cell_type": "code",
   "execution_count": 43,
   "id": "afe4626f-ca03-4ff7-930c-09334b719268",
   "metadata": {},
   "outputs": [
    {
     "data": {
      "text/plain": [
       "[{'name': 'Jim', 'score': 9991, 'strategy': 'Rock'},\n",
       " {'name': 'Jane', 'score': 9903, 'strategy': 'Paper'},\n",
       " {'name': 'Peter', 'score': 10020, 'strategy': 'Scissors'},\n",
       " {'name': 'Zoe', 'score': 10159, 'strategy': 'Scissors'}]"
      ]
     },
     "execution_count": 43,
     "metadata": {},
     "output_type": "execute_result"
    }
   ],
   "source": [
    "# final situation\n",
    "society"
   ]
  },
  {
   "cell_type": "code",
   "execution_count": 44,
   "id": "18b49eaf-d23f-43f2-9db0-4316ccbf7f57",
   "metadata": {},
   "outputs": [
    {
     "data": {
      "text/html": [
       "<div>\n",
       "<style scoped>\n",
       "    .dataframe tbody tr th:only-of-type {\n",
       "        vertical-align: middle;\n",
       "    }\n",
       "\n",
       "    .dataframe tbody tr th {\n",
       "        vertical-align: top;\n",
       "    }\n",
       "\n",
       "    .dataframe thead th {\n",
       "        text-align: right;\n",
       "    }\n",
       "</style>\n",
       "<table border=\"1\" class=\"dataframe\">\n",
       "  <thead>\n",
       "    <tr style=\"text-align: right;\">\n",
       "      <th></th>\n",
       "      <th>name</th>\n",
       "      <th>score</th>\n",
       "      <th>strategy</th>\n",
       "    </tr>\n",
       "  </thead>\n",
       "  <tbody>\n",
       "    <tr>\n",
       "      <th>0</th>\n",
       "      <td>Jim</td>\n",
       "      <td>9991</td>\n",
       "      <td>Rock</td>\n",
       "    </tr>\n",
       "    <tr>\n",
       "      <th>1</th>\n",
       "      <td>Jane</td>\n",
       "      <td>9903</td>\n",
       "      <td>Paper</td>\n",
       "    </tr>\n",
       "    <tr>\n",
       "      <th>2</th>\n",
       "      <td>Peter</td>\n",
       "      <td>10020</td>\n",
       "      <td>Scissors</td>\n",
       "    </tr>\n",
       "    <tr>\n",
       "      <th>3</th>\n",
       "      <td>Zoe</td>\n",
       "      <td>10159</td>\n",
       "      <td>Scissors</td>\n",
       "    </tr>\n",
       "  </tbody>\n",
       "</table>\n",
       "</div>"
      ],
      "text/plain": [
       "    name  score  strategy\n",
       "0    Jim   9991      Rock\n",
       "1   Jane   9903     Paper\n",
       "2  Peter  10020  Scissors\n",
       "3    Zoe  10159  Scissors"
      ]
     },
     "execution_count": 44,
     "metadata": {},
     "output_type": "execute_result"
    }
   ],
   "source": [
    "# as a data frame\n",
    "socialResults=pd.DataFrame(society)\n",
    "socialResults"
   ]
  },
  {
   "cell_type": "code",
   "execution_count": 45,
   "id": "1111da4a-5a44-40b0-88dc-468c26284b11",
   "metadata": {},
   "outputs": [
    {
     "data": {
      "text/html": [
       "<div>\n",
       "<style scoped>\n",
       "    .dataframe tbody tr th:only-of-type {\n",
       "        vertical-align: middle;\n",
       "    }\n",
       "\n",
       "    .dataframe tbody tr th {\n",
       "        vertical-align: top;\n",
       "    }\n",
       "\n",
       "    .dataframe thead th {\n",
       "        text-align: right;\n",
       "    }\n",
       "</style>\n",
       "<table border=\"1\" class=\"dataframe\">\n",
       "  <thead>\n",
       "    <tr style=\"text-align: right;\">\n",
       "      <th></th>\n",
       "      <th>name</th>\n",
       "      <th>score</th>\n",
       "      <th>strategy</th>\n",
       "    </tr>\n",
       "  </thead>\n",
       "  <tbody>\n",
       "    <tr>\n",
       "      <th>3</th>\n",
       "      <td>Zoe</td>\n",
       "      <td>10159</td>\n",
       "      <td>Scissors</td>\n",
       "    </tr>\n",
       "  </tbody>\n",
       "</table>\n",
       "</div>"
      ],
      "text/plain": [
       "  name  score  strategy\n",
       "3  Zoe  10159  Scissors"
      ]
     },
     "execution_count": 45,
     "metadata": {},
     "output_type": "execute_result"
    }
   ],
   "source": [
    "winnerScore=socialResults.score.max()\n",
    "\n",
    "#social outcome\n",
    "socialResults[socialResults.score==winnerScore]"
   ]
  },
  {
   "cell_type": "markdown",
   "id": "912231db-f046-4cf6-bc51-0d9bf0177e62",
   "metadata": {},
   "source": [
    "EJERCICIO 1"
   ]
  },
  {
   "cell_type": "markdown",
   "id": "a0bd703f-6e21-4438-94b6-8fd8501c716e",
   "metadata": {},
   "source": [
    "Exercise 1 - ¿Dónde agregarías este código para ver en vivo los resultados de este último torneo?\n",
    "\r\n",
    "\r\n",
    "print(player1['name'] + \" chose \" + player1['strategy'] +\" - \"+player2['name'] + \" chose \" + player2['strategy'] ) if payoff[player1['strategy'],player2['strategy']] == (1,0): print(player1['name'] + \" won\") if payoff[player1['strategy'],player2['strategy']] == (0,1): print(player2['name'] + \" won\") else: print(\"TIE!\")"
   ]
  },
  {
   "cell_type": "code",
   "execution_count": 50,
   "id": "49fd6fd3-d927-4b09-b997-ec99def8f0bf",
   "metadata": {},
   "outputs": [
    {
     "name": "stdout",
     "output_type": "stream",
     "text": [
      "Jim chose Paper - Jane chose Paper\n",
      "TIE!\n",
      "Jim chose Scissors - Peter chose Scissors\n",
      "TIE!\n",
      "Jim chose Paper - Zoe chose Scissors\n",
      "Zoe won\n",
      "Jane chose Rock - Peter chose Paper\n",
      "Peter won\n",
      "Jane chose Scissors - Zoe chose Rock\n",
      "Zoe won\n",
      "Peter chose Rock - Zoe chose Scissors\n",
      "Peter won\n",
      "TIE!\n",
      "Jim chose Scissors - Jane chose Scissors\n",
      "TIE!\n",
      "Jim chose Scissors - Peter chose Paper\n",
      "Jim won\n",
      "TIE!\n",
      "Jim chose Scissors - Zoe chose Scissors\n",
      "TIE!\n",
      "Jane chose Scissors - Peter chose Paper\n",
      "Jane won\n",
      "TIE!\n",
      "Jane chose Scissors - Zoe chose Scissors\n",
      "TIE!\n",
      "Peter chose Rock - Zoe chose Rock\n",
      "TIE!\n",
      "Jim chose Scissors - Jane chose Paper\n",
      "Jim won\n",
      "TIE!\n",
      "Jim chose Rock - Peter chose Scissors\n",
      "Jim won\n",
      "TIE!\n",
      "Jim chose Paper - Zoe chose Scissors\n",
      "Zoe won\n",
      "Jane chose Rock - Peter chose Rock\n",
      "TIE!\n",
      "Jane chose Scissors - Zoe chose Paper\n",
      "Jane won\n",
      "TIE!\n",
      "Peter chose Rock - Zoe chose Paper\n",
      "Zoe won\n",
      "Jim chose Scissors - Jane chose Rock\n",
      "Jane won\n",
      "Jim chose Scissors - Peter chose Rock\n",
      "Peter won\n",
      "Jim chose Rock - Zoe chose Rock\n",
      "TIE!\n",
      "Jane chose Paper - Peter chose Paper\n",
      "TIE!\n",
      "Jane chose Rock - Zoe chose Paper\n",
      "Zoe won\n",
      "Peter chose Scissors - Zoe chose Rock\n",
      "Zoe won\n",
      "Jim chose Paper - Jane chose Scissors\n",
      "Jane won\n",
      "Jim chose Paper - Peter chose Paper\n",
      "TIE!\n",
      "Jim chose Scissors - Zoe chose Paper\n",
      "Jim won\n",
      "TIE!\n",
      "Jane chose Rock - Peter chose Paper\n",
      "Peter won\n",
      "Jane chose Paper - Zoe chose Scissors\n",
      "Zoe won\n",
      "Peter chose Paper - Zoe chose Paper\n",
      "TIE!\n",
      "Jim chose Paper - Jane chose Rock\n",
      "Jim won\n",
      "TIE!\n",
      "Jim chose Scissors - Peter chose Paper\n",
      "Jim won\n",
      "TIE!\n",
      "Jim chose Rock - Zoe chose Scissors\n",
      "Jim won\n",
      "TIE!\n",
      "Jane chose Scissors - Peter chose Scissors\n",
      "TIE!\n",
      "Jane chose Scissors - Zoe chose Scissors\n",
      "TIE!\n",
      "Peter chose Scissors - Zoe chose Scissors\n",
      "TIE!\n",
      "Jim chose Paper - Jane chose Scissors\n",
      "Jane won\n",
      "Jim chose Scissors - Peter chose Rock\n",
      "Peter won\n",
      "Jim chose Scissors - Zoe chose Scissors\n",
      "TIE!\n",
      "Jane chose Paper - Peter chose Scissors\n",
      "Peter won\n",
      "Jane chose Rock - Zoe chose Scissors\n",
      "Jane won\n",
      "TIE!\n",
      "Peter chose Rock - Zoe chose Scissors\n",
      "Peter won\n",
      "TIE!\n",
      "Jim chose Scissors - Jane chose Paper\n",
      "Jim won\n",
      "TIE!\n",
      "Jim chose Scissors - Peter chose Paper\n",
      "Jim won\n",
      "TIE!\n",
      "Jim chose Rock - Zoe chose Rock\n",
      "TIE!\n",
      "Jane chose Paper - Peter chose Scissors\n",
      "Peter won\n",
      "Jane chose Paper - Zoe chose Rock\n",
      "Jane won\n",
      "TIE!\n",
      "Peter chose Paper - Zoe chose Rock\n",
      "Peter won\n",
      "TIE!\n",
      "Jim chose Paper - Jane chose Rock\n",
      "Jim won\n",
      "TIE!\n",
      "Jim chose Paper - Peter chose Rock\n",
      "Jim won\n",
      "TIE!\n",
      "Jim chose Paper - Zoe chose Scissors\n",
      "Zoe won\n",
      "Jane chose Paper - Peter chose Scissors\n",
      "Peter won\n",
      "Jane chose Rock - Zoe chose Rock\n",
      "TIE!\n",
      "Peter chose Rock - Zoe chose Scissors\n",
      "Peter won\n",
      "TIE!\n",
      "Jim chose Paper - Jane chose Paper\n",
      "TIE!\n",
      "Jim chose Paper - Peter chose Rock\n",
      "Jim won\n",
      "TIE!\n",
      "Jim chose Paper - Zoe chose Rock\n",
      "Jim won\n",
      "TIE!\n",
      "Jane chose Paper - Peter chose Paper\n",
      "TIE!\n",
      "Jane chose Scissors - Zoe chose Scissors\n",
      "TIE!\n",
      "Peter chose Scissors - Zoe chose Scissors\n",
      "TIE!\n",
      "Jim chose Paper - Jane chose Scissors\n",
      "Jane won\n",
      "Jim chose Rock - Peter chose Paper\n",
      "Peter won\n",
      "Jim chose Rock - Zoe chose Scissors\n",
      "Jim won\n",
      "TIE!\n",
      "Jane chose Paper - Peter chose Rock\n",
      "Jane won\n",
      "TIE!\n",
      "Jane chose Paper - Zoe chose Scissors\n",
      "Zoe won\n",
      "Peter chose Paper - Zoe chose Scissors\n",
      "Zoe won\n",
      "Jim chose Paper - Jane chose Paper\n",
      "TIE!\n",
      "Jim chose Rock - Peter chose Scissors\n",
      "Jim won\n",
      "TIE!\n",
      "Jim chose Paper - Zoe chose Scissors\n",
      "Zoe won\n",
      "Jane chose Paper - Peter chose Rock\n",
      "Jane won\n",
      "TIE!\n",
      "Jane chose Scissors - Zoe chose Paper\n",
      "Jane won\n",
      "TIE!\n",
      "Peter chose Scissors - Zoe chose Scissors\n",
      "TIE!\n",
      "Jim chose Scissors - Jane chose Paper\n",
      "Jim won\n",
      "TIE!\n",
      "Jim chose Scissors - Peter chose Rock\n",
      "Peter won\n",
      "Jim chose Paper - Zoe chose Rock\n",
      "Jim won\n",
      "TIE!\n",
      "Jane chose Rock - Peter chose Scissors\n",
      "Jane won\n",
      "TIE!\n",
      "Jane chose Rock - Zoe chose Scissors\n",
      "Jane won\n",
      "TIE!\n",
      "Peter chose Rock - Zoe chose Rock\n",
      "TIE!\n",
      "Jim chose Paper - Jane chose Paper\n",
      "TIE!\n",
      "Jim chose Rock - Peter chose Paper\n",
      "Peter won\n",
      "Jim chose Scissors - Zoe chose Scissors\n",
      "TIE!\n",
      "Jane chose Rock - Peter chose Rock\n",
      "TIE!\n",
      "Jane chose Scissors - Zoe chose Paper\n",
      "Jane won\n",
      "TIE!\n",
      "Peter chose Scissors - Zoe chose Rock\n",
      "Zoe won\n",
      "Jim chose Paper - Jane chose Scissors\n",
      "Jane won\n",
      "Jim chose Scissors - Peter chose Scissors\n",
      "TIE!\n",
      "Jim chose Rock - Zoe chose Paper\n",
      "Zoe won\n",
      "Jane chose Scissors - Peter chose Rock\n",
      "Peter won\n",
      "Jane chose Scissors - Zoe chose Scissors\n",
      "TIE!\n",
      "Peter chose Paper - Zoe chose Scissors\n",
      "Zoe won\n",
      "Jim chose Scissors - Jane chose Scissors\n",
      "TIE!\n",
      "Jim chose Rock - Peter chose Paper\n",
      "Peter won\n",
      "Jim chose Scissors - Zoe chose Rock\n",
      "Zoe won\n",
      "Jane chose Paper - Peter chose Paper\n",
      "TIE!\n",
      "Jane chose Paper - Zoe chose Paper\n",
      "TIE!\n",
      "Peter chose Paper - Zoe chose Paper\n",
      "TIE!\n",
      "Jim chose Scissors - Jane chose Paper\n",
      "Jim won\n",
      "TIE!\n",
      "Jim chose Rock - Peter chose Paper\n",
      "Peter won\n",
      "Jim chose Paper - Zoe chose Scissors\n",
      "Zoe won\n",
      "Jane chose Paper - Peter chose Rock\n",
      "Jane won\n",
      "TIE!\n",
      "Jane chose Paper - Zoe chose Scissors\n",
      "Zoe won\n",
      "Peter chose Scissors - Zoe chose Scissors\n",
      "TIE!\n",
      "Jim chose Rock - Jane chose Paper\n",
      "Jane won\n",
      "Jim chose Rock - Peter chose Paper\n",
      "Peter won\n",
      "Jim chose Scissors - Zoe chose Paper\n",
      "Jim won\n",
      "TIE!\n",
      "Jane chose Scissors - Peter chose Scissors\n",
      "TIE!\n",
      "Jane chose Rock - Zoe chose Paper\n",
      "Zoe won\n",
      "Peter chose Scissors - Zoe chose Paper\n",
      "Peter won\n",
      "TIE!\n",
      "Jim chose Rock - Jane chose Paper\n",
      "Jane won\n",
      "Jim chose Scissors - Peter chose Paper\n",
      "Jim won\n",
      "TIE!\n",
      "Jim chose Paper - Zoe chose Rock\n",
      "Jim won\n",
      "TIE!\n",
      "Jane chose Scissors - Peter chose Scissors\n",
      "TIE!\n",
      "Jane chose Rock - Zoe chose Rock\n",
      "TIE!\n",
      "Peter chose Rock - Zoe chose Scissors\n",
      "Peter won\n",
      "TIE!\n",
      "Jim chose Scissors - Jane chose Scissors\n",
      "TIE!\n",
      "Jim chose Paper - Peter chose Rock\n",
      "Jim won\n",
      "TIE!\n",
      "Jim chose Rock - Zoe chose Paper\n",
      "Zoe won\n",
      "Jane chose Scissors - Peter chose Scissors\n",
      "TIE!\n",
      "Jane chose Paper - Zoe chose Scissors\n",
      "Zoe won\n",
      "Peter chose Paper - Zoe chose Paper\n",
      "TIE!\n",
      "Jim chose Scissors - Jane chose Rock\n",
      "Jane won\n",
      "Jim chose Paper - Peter chose Scissors\n",
      "Peter won\n",
      "Jim chose Rock - Zoe chose Rock\n",
      "TIE!\n",
      "Jane chose Paper - Peter chose Paper\n",
      "TIE!\n",
      "Jane chose Rock - Zoe chose Paper\n",
      "Zoe won\n",
      "Peter chose Scissors - Zoe chose Rock\n",
      "Zoe won\n",
      "Jim chose Scissors - Jane chose Paper\n",
      "Jim won\n",
      "TIE!\n",
      "Jim chose Paper - Peter chose Scissors\n",
      "Peter won\n",
      "Jim chose Paper - Zoe chose Rock\n",
      "Jim won\n",
      "TIE!\n",
      "Jane chose Paper - Peter chose Paper\n",
      "TIE!\n",
      "Jane chose Scissors - Zoe chose Rock\n",
      "Zoe won\n",
      "Peter chose Scissors - Zoe chose Paper\n",
      "Peter won\n",
      "TIE!\n",
      "Jim chose Rock - Jane chose Rock\n",
      "TIE!\n",
      "Jim chose Scissors - Peter chose Rock\n",
      "Peter won\n",
      "Jim chose Rock - Zoe chose Paper\n",
      "Zoe won\n",
      "Jane chose Paper - Peter chose Paper\n",
      "TIE!\n",
      "Jane chose Rock - Zoe chose Paper\n",
      "Zoe won\n",
      "Peter chose Rock - Zoe chose Rock\n",
      "TIE!\n",
      "Jim chose Rock - Jane chose Paper\n",
      "Jane won\n",
      "Jim chose Paper - Peter chose Scissors\n",
      "Peter won\n",
      "Jim chose Paper - Zoe chose Scissors\n",
      "Zoe won\n",
      "Jane chose Rock - Peter chose Scissors\n",
      "Jane won\n",
      "TIE!\n",
      "Jane chose Paper - Zoe chose Rock\n",
      "Jane won\n",
      "TIE!\n",
      "Peter chose Paper - Zoe chose Paper\n",
      "TIE!\n",
      "Jim chose Scissors - Jane chose Paper\n",
      "Jim won\n",
      "TIE!\n",
      "Jim chose Scissors - Peter chose Scissors\n",
      "TIE!\n",
      "Jim chose Paper - Zoe chose Scissors\n",
      "Zoe won\n",
      "Jane chose Rock - Peter chose Paper\n",
      "Peter won\n",
      "Jane chose Rock - Zoe chose Rock\n",
      "TIE!\n",
      "Peter chose Paper - Zoe chose Paper\n",
      "TIE!\n",
      "Jim chose Paper - Jane chose Paper\n",
      "TIE!\n",
      "Jim chose Paper - Peter chose Scissors\n",
      "Peter won\n",
      "Jim chose Rock - Zoe chose Scissors\n",
      "Jim won\n",
      "TIE!\n",
      "Jane chose Paper - Peter chose Paper\n",
      "TIE!\n",
      "Jane chose Scissors - Zoe chose Rock\n",
      "Zoe won\n",
      "Peter chose Scissors - Zoe chose Scissors\n",
      "TIE!\n",
      "Jim chose Scissors - Jane chose Rock\n",
      "Jane won\n",
      "Jim chose Rock - Peter chose Scissors\n",
      "Jim won\n",
      "TIE!\n",
      "Jim chose Rock - Zoe chose Rock\n",
      "TIE!\n",
      "Jane chose Scissors - Peter chose Scissors\n",
      "TIE!\n",
      "Jane chose Scissors - Zoe chose Paper\n",
      "Jane won\n",
      "TIE!\n",
      "Peter chose Paper - Zoe chose Scissors\n",
      "Zoe won\n",
      "Jim chose Scissors - Jane chose Scissors\n",
      "TIE!\n",
      "Jim chose Rock - Peter chose Paper\n",
      "Peter won\n",
      "Jim chose Scissors - Zoe chose Scissors\n",
      "TIE!\n",
      "Jane chose Paper - Peter chose Paper\n",
      "TIE!\n",
      "Jane chose Rock - Zoe chose Paper\n",
      "Zoe won\n",
      "Peter chose Rock - Zoe chose Rock\n",
      "TIE!\n",
      "Jim chose Rock - Jane chose Rock\n",
      "TIE!\n",
      "Jim chose Paper - Peter chose Paper\n",
      "TIE!\n",
      "Jim chose Rock - Zoe chose Paper\n",
      "Zoe won\n",
      "Jane chose Rock - Peter chose Scissors\n",
      "Jane won\n",
      "TIE!\n",
      "Jane chose Rock - Zoe chose Scissors\n",
      "Jane won\n",
      "TIE!\n",
      "Peter chose Paper - Zoe chose Paper\n",
      "TIE!\n",
      "Jim chose Rock - Jane chose Scissors\n",
      "Jim won\n",
      "TIE!\n",
      "Jim chose Scissors - Peter chose Paper\n",
      "Jim won\n",
      "TIE!\n",
      "Jim chose Rock - Zoe chose Paper\n",
      "Zoe won\n",
      "Jane chose Paper - Peter chose Paper\n",
      "TIE!\n",
      "Jane chose Rock - Zoe chose Rock\n",
      "TIE!\n",
      "Peter chose Rock - Zoe chose Paper\n",
      "Zoe won\n",
      "Jim chose Scissors - Jane chose Paper\n",
      "Jim won\n",
      "TIE!\n",
      "Jim chose Scissors - Peter chose Paper\n",
      "Jim won\n",
      "TIE!\n",
      "Jim chose Rock - Zoe chose Scissors\n",
      "Jim won\n",
      "TIE!\n",
      "Jane chose Scissors - Peter chose Paper\n",
      "Jane won\n",
      "TIE!\n",
      "Jane chose Rock - Zoe chose Paper\n",
      "Zoe won\n",
      "Peter chose Rock - Zoe chose Rock\n",
      "TIE!\n",
      "Jim chose Scissors - Jane chose Rock\n",
      "Jane won\n",
      "Jim chose Paper - Peter chose Scissors\n",
      "Peter won\n",
      "Jim chose Scissors - Zoe chose Scissors\n",
      "TIE!\n",
      "Jane chose Rock - Peter chose Rock\n",
      "TIE!\n",
      "Jane chose Scissors - Zoe chose Paper\n",
      "Jane won\n",
      "TIE!\n",
      "Peter chose Paper - Zoe chose Rock\n",
      "Peter won\n",
      "TIE!\n",
      "Jim chose Rock - Jane chose Scissors\n",
      "Jim won\n",
      "TIE!\n",
      "Jim chose Scissors - Peter chose Scissors\n",
      "TIE!\n",
      "Jim chose Scissors - Zoe chose Scissors\n",
      "TIE!\n",
      "Jane chose Rock - Peter chose Rock\n",
      "TIE!\n",
      "Jane chose Rock - Zoe chose Paper\n",
      "Zoe won\n",
      "Peter chose Scissors - Zoe chose Paper\n",
      "Peter won\n",
      "TIE!\n",
      "Jim chose Paper - Jane chose Scissors\n",
      "Jane won\n",
      "Jim chose Scissors - Peter chose Rock\n",
      "Peter won\n",
      "Jim chose Scissors - Zoe chose Paper\n",
      "Jim won\n",
      "TIE!\n",
      "Jane chose Paper - Peter chose Rock\n",
      "Jane won\n",
      "TIE!\n",
      "Jane chose Scissors - Zoe chose Scissors\n",
      "TIE!\n",
      "Peter chose Scissors - Zoe chose Scissors\n",
      "TIE!\n",
      "Jim chose Rock - Jane chose Paper\n",
      "Jane won\n",
      "Jim chose Scissors - Peter chose Scissors\n",
      "TIE!\n",
      "Jim chose Paper - Zoe chose Paper\n",
      "TIE!\n",
      "Jane chose Paper - Peter chose Rock\n",
      "Jane won\n",
      "TIE!\n",
      "Jane chose Paper - Zoe chose Scissors\n",
      "Zoe won\n",
      "Peter chose Scissors - Zoe chose Rock\n",
      "Zoe won\n",
      "Jim chose Rock - Jane chose Paper\n",
      "Jane won\n",
      "Jim chose Rock - Peter chose Scissors\n",
      "Jim won\n",
      "TIE!\n",
      "Jim chose Scissors - Zoe chose Paper\n",
      "Jim won\n",
      "TIE!\n",
      "Jane chose Scissors - Peter chose Scissors\n",
      "TIE!\n",
      "Jane chose Scissors - Zoe chose Scissors\n",
      "TIE!\n",
      "Peter chose Scissors - Zoe chose Paper\n",
      "Peter won\n",
      "TIE!\n",
      "Jim chose Paper - Jane chose Scissors\n",
      "Jane won\n",
      "Jim chose Rock - Peter chose Rock\n",
      "TIE!\n",
      "Jim chose Rock - Zoe chose Rock\n",
      "TIE!\n",
      "Jane chose Rock - Peter chose Paper\n",
      "Peter won\n",
      "Jane chose Paper - Zoe chose Scissors\n",
      "Zoe won\n",
      "Peter chose Scissors - Zoe chose Rock\n",
      "Zoe won\n",
      "Jim chose Rock - Jane chose Rock\n",
      "TIE!\n",
      "Jim chose Rock - Peter chose Scissors\n",
      "Jim won\n",
      "TIE!\n",
      "Jim chose Scissors - Zoe chose Rock\n",
      "Zoe won\n",
      "Jane chose Rock - Peter chose Rock\n",
      "TIE!\n",
      "Jane chose Scissors - Zoe chose Rock\n",
      "Zoe won\n",
      "Peter chose Rock - Zoe chose Scissors\n",
      "Peter won\n",
      "TIE!\n",
      "Jim chose Paper - Jane chose Scissors\n",
      "Jane won\n",
      "Jim chose Rock - Peter chose Rock\n",
      "TIE!\n",
      "Jim chose Scissors - Zoe chose Rock\n",
      "Zoe won\n",
      "Jane chose Scissors - Peter chose Scissors\n",
      "TIE!\n",
      "Jane chose Scissors - Zoe chose Rock\n",
      "Zoe won\n",
      "Peter chose Scissors - Zoe chose Rock\n",
      "Zoe won\n",
      "Jim chose Paper - Jane chose Scissors\n",
      "Jane won\n",
      "Jim chose Paper - Peter chose Rock\n",
      "Jim won\n",
      "TIE!\n",
      "Jim chose Rock - Zoe chose Paper\n",
      "Zoe won\n",
      "Jane chose Scissors - Peter chose Paper\n",
      "Jane won\n",
      "TIE!\n",
      "Jane chose Scissors - Zoe chose Paper\n",
      "Jane won\n",
      "TIE!\n",
      "Peter chose Paper - Zoe chose Paper\n",
      "TIE!\n",
      "Jim chose Scissors - Jane chose Paper\n",
      "Jim won\n",
      "TIE!\n",
      "Jim chose Rock - Peter chose Paper\n",
      "Peter won\n",
      "Jim chose Scissors - Zoe chose Rock\n",
      "Zoe won\n",
      "Jane chose Scissors - Peter chose Scissors\n",
      "TIE!\n",
      "Jane chose Rock - Zoe chose Rock\n",
      "TIE!\n",
      "Peter chose Rock - Zoe chose Scissors\n",
      "Peter won\n",
      "TIE!\n",
      "Jim chose Scissors - Jane chose Scissors\n",
      "TIE!\n",
      "Jim chose Paper - Peter chose Rock\n",
      "Jim won\n",
      "TIE!\n",
      "Jim chose Rock - Zoe chose Scissors\n",
      "Jim won\n",
      "TIE!\n",
      "Jane chose Scissors - Peter chose Rock\n",
      "Peter won\n",
      "Jane chose Scissors - Zoe chose Scissors\n",
      "TIE!\n",
      "Peter chose Paper - Zoe chose Rock\n",
      "Peter won\n",
      "TIE!\n",
      "Jim chose Paper - Jane chose Rock\n",
      "Jim won\n",
      "TIE!\n",
      "Jim chose Rock - Peter chose Paper\n",
      "Peter won\n",
      "Jim chose Scissors - Zoe chose Scissors\n",
      "TIE!\n",
      "Jane chose Paper - Peter chose Rock\n",
      "Jane won\n",
      "TIE!\n",
      "Jane chose Paper - Zoe chose Paper\n",
      "TIE!\n",
      "Peter chose Rock - Zoe chose Paper\n",
      "Zoe won\n",
      "Jim chose Scissors - Jane chose Paper\n",
      "Jim won\n",
      "TIE!\n",
      "Jim chose Rock - Peter chose Paper\n",
      "Peter won\n",
      "Jim chose Scissors - Zoe chose Rock\n",
      "Zoe won\n",
      "Jane chose Paper - Peter chose Scissors\n",
      "Peter won\n",
      "Jane chose Scissors - Zoe chose Paper\n",
      "Jane won\n",
      "TIE!\n",
      "Peter chose Rock - Zoe chose Paper\n",
      "Zoe won\n",
      "Jim chose Paper - Jane chose Paper\n",
      "TIE!\n",
      "Jim chose Scissors - Peter chose Rock\n",
      "Peter won\n",
      "Jim chose Rock - Zoe chose Rock\n",
      "TIE!\n",
      "Jane chose Paper - Peter chose Paper\n",
      "TIE!\n",
      "Jane chose Scissors - Zoe chose Paper\n",
      "Jane won\n",
      "TIE!\n",
      "Peter chose Paper - Zoe chose Scissors\n",
      "Zoe won\n",
      "Jim chose Paper - Jane chose Scissors\n",
      "Jane won\n",
      "Jim chose Rock - Peter chose Scissors\n",
      "Jim won\n",
      "TIE!\n",
      "Jim chose Paper - Zoe chose Scissors\n",
      "Zoe won\n",
      "Jane chose Scissors - Peter chose Rock\n",
      "Peter won\n",
      "Jane chose Rock - Zoe chose Rock\n",
      "TIE!\n",
      "Peter chose Paper - Zoe chose Paper\n",
      "TIE!\n",
      "Jim chose Rock - Jane chose Scissors\n",
      "Jim won\n",
      "TIE!\n",
      "Jim chose Rock - Peter chose Paper\n",
      "Peter won\n",
      "Jim chose Paper - Zoe chose Rock\n",
      "Jim won\n",
      "TIE!\n",
      "Jane chose Rock - Peter chose Scissors\n",
      "Jane won\n",
      "TIE!\n",
      "Jane chose Rock - Zoe chose Rock\n",
      "TIE!\n",
      "Peter chose Rock - Zoe chose Scissors\n",
      "Peter won\n",
      "TIE!\n",
      "Jim chose Paper - Jane chose Rock\n",
      "Jim won\n",
      "TIE!\n",
      "Jim chose Scissors - Peter chose Rock\n",
      "Peter won\n",
      "Jim chose Paper - Zoe chose Paper\n",
      "TIE!\n",
      "Jane chose Rock - Peter chose Scissors\n",
      "Jane won\n",
      "TIE!\n",
      "Jane chose Rock - Zoe chose Paper\n",
      "Zoe won\n",
      "Peter chose Rock - Zoe chose Paper\n",
      "Zoe won\n",
      "Jim chose Scissors - Jane chose Paper\n",
      "Jim won\n",
      "TIE!\n",
      "Jim chose Paper - Peter chose Rock\n",
      "Jim won\n",
      "TIE!\n",
      "Jim chose Rock - Zoe chose Paper\n",
      "Zoe won\n",
      "Jane chose Scissors - Peter chose Scissors\n",
      "TIE!\n",
      "Jane chose Scissors - Zoe chose Scissors\n",
      "TIE!\n",
      "Peter chose Scissors - Zoe chose Rock\n",
      "Zoe won\n",
      "Jim chose Paper - Jane chose Scissors\n",
      "Jane won\n",
      "Jim chose Scissors - Peter chose Scissors\n",
      "TIE!\n",
      "Jim chose Scissors - Zoe chose Scissors\n",
      "TIE!\n",
      "Jane chose Paper - Peter chose Rock\n",
      "Jane won\n",
      "TIE!\n",
      "Jane chose Scissors - Zoe chose Paper\n",
      "Jane won\n",
      "TIE!\n",
      "Peter chose Paper - Zoe chose Scissors\n",
      "Zoe won\n"
     ]
    }
   ],
   "source": [
    "# resetting society\n",
    "society=[{'name':n,'score':0,'strategy':None} for n in names]\n",
    "\n",
    "# several rounds\n",
    "for aRound in range(50):\n",
    "    \n",
    "    # en each round:\n",
    "    for player1,player2 in itertools.combinations(society,2):\n",
    "        # each chooses strategy\n",
    "        player1['strategy']=choice(strategies)\n",
    "        \n",
    "        player2['strategy']=choice(strategies)\n",
    "        \n",
    "        # result from strategy chosen\n",
    "        result=payoff[player1['strategy'],player2['strategy']]\n",
    "            \n",
    "        # update scores\n",
    "        player1['score']+=result[0]\n",
    "        player2['score']+=result[1]\n",
    "        \n",
    "        print(player1['name'] + \" chose \" + player1['strategy'] +\" - \"+player2['name'] + \" chose \" + player2['strategy'] ) \n",
    "        if payoff[player1['strategy'],player2['strategy']] == (1,0): print(player1['name'] + \" won\") \n",
    "        if payoff[player1['strategy'],player2['strategy']] == (0,1): print(player2['name'] + \" won\") \n",
    "        else: print(\"TIE!\")"
   ]
  },
  {
   "cell_type": "code",
   "execution_count": null,
   "id": "5c9d06c4-d478-41b5-b7e7-b3e7cd67fb92",
   "metadata": {},
   "outputs": [],
   "source": [
    "\")"
   ]
  },
  {
   "cell_type": "markdown",
   "id": "314fd37b-bd57-48bd-becd-2785d6e747de",
   "metadata": {},
   "source": [
    "Exercise 2\r\n",
    "How would you implement this game for 10 players, and get the results?"
   ]
  },
  {
   "cell_type": "markdown",
   "id": "60d4a34c-de74-438e-8fd7-8d660f413663",
   "metadata": {},
   "source": [
    "Abstracción de agentes\r\n",
    "Veamos una abstracción conocida como 'OOP', que significa Programación Orientada a Objetos.\r\n",
    "Esta es la creación de un objeto agente y sus métodos:ds:"
   ]
  },
  {
   "cell_type": "code",
   "execution_count": 51,
   "id": "ab9d9c44-f19b-4606-b6c2-3e2cdc88f4ee",
   "metadata": {},
   "outputs": [],
   "source": [
    "class Player:    # object class\n",
    "    \n",
    "    def __init__(self,name,score=0): # create the object (self) for the class \n",
    "        self.name=name               # with some variables\n",
    "        self.score=score\n",
    "\n",
    "    def increase_score(self,value):  # metho for object class \n",
    "        self.score+=value"
   ]
  },
  {
   "cell_type": "markdown",
   "id": "90bd571c-b7be-46b0-b08f-58f45daa21a8",
   "metadata": {},
   "source": [
    "Una vez creado, puedes dar origen a instancias del objeto:"
   ]
  },
  {
   "cell_type": "code",
   "execution_count": 52,
   "id": "0ce6d0e3-c14a-49cb-887e-89e0beabf1a9",
   "metadata": {},
   "outputs": [],
   "source": [
    "Mary=Player(\"Mary\")\n",
    "John=Player(\"John\")"
   ]
  },
  {
   "cell_type": "markdown",
   "id": "7ccbaf8c-91b0-4534-bee2-d8f22211e1ac",
   "metadata": {},
   "source": [
    "Usemos algún código anterior:"
   ]
  },
  {
   "cell_type": "code",
   "execution_count": 53,
   "id": "90965cdf-8c10-4f53-9cc6-724474307b25",
   "metadata": {},
   "outputs": [
    {
     "data": {
      "text/plain": [
       "(0, 1)"
      ]
     },
     "execution_count": 53,
     "metadata": {},
     "output_type": "execute_result"
    }
   ],
   "source": [
    "John_strategy=choice(strategies)\n",
    "Mary_strategy=choice(strategies)\n",
    "\n",
    "John_PayOff,Mary_PayOff=payoff[John_strategy,Mary_strategy]\n",
    "John_PayOff,Mary_PayOff"
   ]
  },
  {
   "cell_type": "markdown",
   "id": "f81cd866-e057-4f95-9391-c974588c387a",
   "metadata": {},
   "source": [
    "Usamos esos valores para cambiar las variables de la instancia, como se define en la clase de objeto:\r\n"
   ]
  },
  {
   "cell_type": "code",
   "execution_count": 54,
   "id": "0cc54a38-8cf1-41c7-b01a-9c97fd70db12",
   "metadata": {},
   "outputs": [],
   "source": [
    "John.increase_score(John_PayOff)\n",
    "Mary.increase_score(Mary_PayOff)   "
   ]
  },
  {
   "cell_type": "markdown",
   "id": "a3c0d673-ac2e-42a9-9893-e360c5615b1c",
   "metadata": {},
   "source": [
    "Las instancias sí actualizaron el puntaje:\r\n",
    "\n"
   ]
  },
  {
   "cell_type": "code",
   "execution_count": 55,
   "id": "4ace768c-7335-41ce-977d-cbdbbf9bda6c",
   "metadata": {},
   "outputs": [
    {
     "data": {
      "text/plain": [
       "(0, 1)"
      ]
     },
     "execution_count": 55,
     "metadata": {},
     "output_type": "execute_result"
    }
   ],
   "source": [
    "John.score, Mary.score"
   ]
  },
  {
   "cell_type": "markdown",
   "id": "65f1aba7-8788-4840-93ed-82ce2c7f6f3e",
   "metadata": {},
   "source": [
    "Una nueva clase que hereda la clase anterior:\n",
    "\n"
   ]
  },
  {
   "cell_type": "code",
   "execution_count": 56,
   "id": "38e30864-167e-4517-86ad-10839a83586b",
   "metadata": {},
   "outputs": [],
   "source": [
    "class PlayerBetter(Player):\n",
    "    def __init__(self,name,score=0):\n",
    "        Player.__init__(self,name,score=0)\n",
    "        self.strategy=None\n",
    "\n",
    "    def increase_score(self,value):\n",
    "        self.score+=value\n",
    "\n",
    "    def get_strategy(self):\n",
    "        from random import choice\n",
    "        strategies=['Rock','Paper','Scissors']\n",
    "        self.strategy=choice(strategies)\n",
    "        return self.strategy"
   ]
  },
  {
   "cell_type": "markdown",
   "id": "0805b86b-81b2-4e9a-b18f-94ca25c9d5fd",
   "metadata": {},
   "source": [
    "Nosotros podemos usar la nueva clase:\n",
    "\n"
   ]
  },
  {
   "cell_type": "code",
   "execution_count": 57,
   "id": "9e9b9326-afdc-404f-8a37-f324dfbfba99",
   "metadata": {},
   "outputs": [
    {
     "data": {
      "text/plain": [
       "(0, 1)"
      ]
     },
     "execution_count": 57,
     "metadata": {},
     "output_type": "execute_result"
    }
   ],
   "source": [
    "Mary=PlayerBetter(\"Mary\")\n",
    "John=PlayerBetter(\"John\")\n",
    "\n",
    "# not needed\n",
    "# John_strategy=choice(strategies)\n",
    "# Mary_strategy=choice(strategies)\n",
    "\n",
    "John_PayOff,Mary_PayOff=payoff[John.get_strategy(),Mary.get_strategy()]\n",
    "John.increase_score(John_PayOff)\n",
    "Mary.increase_score(Mary_PayOff)\n",
    "##\n",
    "John.score, Mary.score"
   ]
  },
  {
   "cell_type": "markdown",
   "id": "27c9d269-33b3-4f4a-91fd-9f80a7a9a5e3",
   "metadata": {},
   "source": [
    "La nueva clase guarda la estrategia actual:\n",
    "\n"
   ]
  },
  {
   "cell_type": "code",
   "execution_count": 58,
   "id": "659cbc43-73dd-4895-9cef-b333a61acf55",
   "metadata": {},
   "outputs": [
    {
     "name": "stdout",
     "output_type": "stream",
     "text": [
      "Paper Scissors\n"
     ]
    }
   ],
   "source": [
    "print(John.strategy, Mary.strategy)"
   ]
  },
  {
   "cell_type": "markdown",
   "id": "1122bc55-a282-4895-848e-c37e85d4024d",
   "metadata": {},
   "source": [
    "Podemos usar la nueva clase repetidamente:\n",
    "\n"
   ]
  },
  {
   "cell_type": "code",
   "execution_count": 59,
   "id": "7645f468-36fc-4acf-ab3d-333ca1dd7f9b",
   "metadata": {},
   "outputs": [
    {
     "name": "stdout",
     "output_type": "stream",
     "text": [
      "round: 1\n",
      "0 1\n",
      "Paper Scissors\n",
      "round: 2\n",
      "0 2\n",
      "Paper Scissors\n",
      "round: 3\n",
      "0 2\n",
      "Paper Paper\n",
      "round: 4\n",
      "0 3\n",
      "Rock Paper\n",
      "round: 5\n",
      "0 4\n",
      "Rock Paper\n",
      "round: 6\n",
      "1 4\n",
      "Scissors Paper\n",
      "round: 7\n",
      "1 5\n",
      "Paper Scissors\n",
      "round: 8\n",
      "1 6\n",
      "Paper Scissors\n",
      "round: 9\n",
      "1 7\n",
      "Scissors Rock\n",
      "round: 10\n",
      "2 7\n",
      "Paper Rock\n"
     ]
    }
   ],
   "source": [
    "Mary=PlayerBetter(\"Mary\")\n",
    "John=PlayerBetter(\"John\")\n",
    "\n",
    "for i in range(10):\n",
    "    John_PayOff,Mary_PayOff=payoff[John.get_strategy(),Mary.get_strategy()]\n",
    "    John.increase_score(John_PayOff)\n",
    "    Mary.increase_score(Mary_PayOff)\n",
    "    # see current result\n",
    "    print('round:',i+1)\n",
    "    print(John.score, Mary.score)\n",
    "    print(John.strategy, Mary.strategy)"
   ]
  },
  {
   "cell_type": "code",
   "execution_count": null,
   "id": "a48dd7ae-e544-4a41-8ac9-7208d54982d7",
   "metadata": {},
   "outputs": [],
   "source": []
  }
 ],
 "metadata": {
  "kernelspec": {
   "display_name": "Python 3 (ipykernel)",
   "language": "python",
   "name": "python3"
  },
  "language_info": {
   "codemirror_mode": {
    "name": "ipython",
    "version": 3
   },
   "file_extension": ".py",
   "mimetype": "text/x-python",
   "name": "python",
   "nbconvert_exporter": "python",
   "pygments_lexer": "ipython3",
   "version": "3.11.7"
  }
 },
 "nbformat": 4,
 "nbformat_minor": 5
}
