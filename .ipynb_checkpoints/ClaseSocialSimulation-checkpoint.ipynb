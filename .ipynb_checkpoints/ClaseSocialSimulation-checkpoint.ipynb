{
 "cells": [
  {
   "cell_type": "markdown",
   "id": "3be2707d-dc9a-4352-a6a9-105f7934dc91",
   "metadata": {},
   "source": [
    "Introducción a la simulación social\r\n",
    "El análisis estadístico beneficia principalmente al estudio de distribuciones de variables/factores. Podríamos complementar ese enfoque si nos centramos en los actores que producen las variables.\r\n",
    "\r\n",
    "Sin embargo, representar al actor no es tarea fáci\n",
    "- :\r\n",
    "\r\n",
    "Un resultado social es un agregado complejo de actores individuales. En general, llamamos resultados sociales resultados emergentes de decisiones individual- es.\r\n",
    "\r\n",
    "Se ha asumido que las decisiones individuales son racionales, lo que simplifica demasiado los modelos de actores. De hecho, la toma de decisiones es un campo en e\n",
    "- udio.\r\n",
    "\r\n",
    "El procesamiento de la información de los agentes está sesgado por la \"cultura\" (creencias, experiencia) y las instituciones (reglas, hábitos). Y muchos paradigmas pueden coexistir en un grupo particular. El cambio es posible, pero la estructura social y la cultura lo\n",
    "- imitan.\r\n",
    "\r\n",
    "Las acciones y decisiones de los actores ocurren dentro de una red de agentes. Un actor puede formar parte de varias redes.\r\n",
    "\r\n",
    "El campo relacionado con este estudio es la Ciencia Social Computacional. La metodología particular es el modelado basado en agentes.\r\n",
    "\r\n",
    "Un juego sencillo como ejemplo.\r\n",
    "Según WIKIPEDIA, el juego Piedra, Papel, Tijera es un juego simultáneo de suma cero, con tres resultados posibles: empate, victo- ria o derrota:\r\n",
    "\r\n",
    "Un jugador que decida jugar ROCK vencerá a otro jugador que elija TIJERAS (\"la piedra aplasta las tijeras\" o \"ro- mpe las tijeras\")\r\n",
    "Un jugador que decida jugar ROCK perderá frente a otro que haya jugado PAPEL (\"el papel - cubre la piedra\").\r\n",
    "Un jugador que decida jugar PAPEL perderá con una jugada de TIJERAS (\"tij- eras corta papel\").\r\n",
    "Si ambos jugadores eligen la misma forma, el \n",
    "juego está empatado.\r\n",
    "Representemos el juego:\r\n",
    "\r\n",
    "Estrategias\r\n",
    "Las estrategias son las opciones disponibles:"
   ]
  },
  {
   "cell_type": "code",
   "execution_count": null,
   "id": "d9f47e24-82d9-4bfd-b44f-87f20ffd78cb",
   "metadata": {},
   "outputs": [],
   "source": [
    "strategies=['Rock','Paper','Scissors']"
   ]
  },
  {
   "cell_type": "code",
   "execution_count": null,
   "id": "766a4002-0598-465c-950c-26f440bbcf03",
   "metadata": {},
   "outputs": [],
   "source": [
    "payoff={('Rock','Paper'):(0,1),\n",
    "        ('Paper','Rock'):(1,0),\n",
    "        ('Rock','Scissors'):(1,0),\n",
    "        ('Scissors','Rock'):(0,1),\n",
    "        ('Paper','Scissors'):(0,1),\n",
    "        ('Scissors','Paper'):(1,0),\n",
    "        ('Rock','Rock'):(0,0),\n",
    "        ('Paper','Paper'):(0,0),\n",
    "        ('Scissors','Scissors'):(0,0)}"
   ]
  },
  {
   "cell_type": "code",
   "execution_count": null,
   "id": "6a03dd3d-ef46-4a1d-90ac-9237dd6b06fa",
   "metadata": {},
   "outputs": [],
   "source": [
    "Players=[{'name':'John','score':0,'strategy':None},\n",
    "         {'name':'Mary','score':0,'strategy':None}]"
   ]
  },
  {
   "cell_type": "code",
   "execution_count": null,
   "id": "48933c48-3951-4ab5-87d1-e8746c5630c0",
   "metadata": {},
   "outputs": [],
   "source": [
    "from random import choice\n",
    "\n",
    "#simplest strategy: choose randomly\n",
    "choice(strategies);"
   ]
  },
  {
   "cell_type": "code",
   "execution_count": null,
   "id": "299a7487-0f3d-4e40-8bec-5b1ca4a71701",
   "metadata": {},
   "outputs": [],
   "source": [
    "Players[0]['strategy']=choice(strategies)\n",
    "Players[1]['strategy']=choice(strategies)"
   ]
  },
  {
   "cell_type": "code",
   "execution_count": null,
   "id": "3814ebf8-dc0e-4de0-a41f-9cb4c688857a",
   "metadata": {},
   "outputs": [],
   "source": [
    "Players[0]['strategy'],Players[1]['strategy']"
   ]
  },
  {
   "cell_type": "code",
   "execution_count": null,
   "id": "b4062146-83fa-475d-9964-e498240c7265",
   "metadata": {},
   "outputs": [],
   "source": [
    "# social result of individual decision\n",
    "result = payoff[Players[0]['strategy'],Players[1]['strategy']]\n",
    "result"
   ]
  },
  {
   "cell_type": "code",
   "execution_count": null,
   "id": "9df3547c-a2d6-4f45-99b4-0cf9af8dd048",
   "metadata": {},
   "outputs": [],
   "source": [
    "# update agents situation\n",
    "Players[0]['score']+=result[0]\n",
    "Players[1]['score']+=result[1]"
   ]
  },
  {
   "cell_type": "code",
   "execution_count": null,
   "id": "4b13db53-acc8-4b57-bb25-700cefcff71f",
   "metadata": {},
   "outputs": [],
   "source": [
    "# current agent situation\n",
    "Players"
   ]
  },
  {
   "cell_type": "code",
   "execution_count": null,
   "id": "07018dd6-537a-4cfd-9eb3-c9e6713478f3",
   "metadata": {},
   "outputs": [],
   "source": [
    "import pandas as pd \n",
    "\n",
    "socialResults=pd.DataFrame((Players[0], Players[1]))\n",
    "socialResults"
   ]
  },
  {
   "cell_type": "code",
   "execution_count": null,
   "id": "882808fe-561f-49be-83c8-eb96603b2e5f",
   "metadata": {},
   "outputs": [],
   "source": [
    "winnerScore=socialResults.score.max()\n",
    "\n",
    "#social outcome\n",
    "socialResults[socialResults.score==winnerScore]"
   ]
  },
  {
   "cell_type": "code",
   "execution_count": null,
   "id": "d5fc7fa7-7aaa-4a70-a295-0507146f1f4e",
   "metadata": {},
   "outputs": [],
   "source": [
    "# names of players\n",
    "names=['Jim','Jane','Peter','Zoe']"
   ]
  },
  {
   "cell_type": "code",
   "execution_count": null,
   "id": "b7e0b2d7-5543-44b5-95b9-9007203702e1",
   "metadata": {},
   "outputs": [],
   "source": [
    "# setting up players\n",
    "society=[{'name':n,'score':0,'strategy':None} for n in names]"
   ]
  },
  {
   "cell_type": "code",
   "execution_count": null,
   "id": "ec440d0d-0eeb-4aa3-9852-96d10d12d2bb",
   "metadata": {},
   "outputs": [],
   "source": [
    "# each player a dict:\n",
    "society"
   ]
  },
  {
   "cell_type": "code",
   "execution_count": null,
   "id": "5e4c2dbf-8323-4812-bb92-09125fcdea09",
   "metadata": {},
   "outputs": [],
   "source": [
    "import itertools \n",
    "\n",
    "# pair is a tuple of dicts\n",
    "for pair in itertools.combinations(society,2):\n",
    "    print(pair)"
   ]
  },
  {
   "cell_type": "code",
   "execution_count": null,
   "id": "43d38d03-5a3d-4f75-8edc-ae369b70b523",
   "metadata": {},
   "outputs": [],
   "source": [
    "import itertools \n",
    "\n",
    "# each dict\n",
    "for player1,player2 in itertools.combinations(society,2):\n",
    "    print(player1,player2)"
   ]
  },
  {
   "cell_type": "code",
   "execution_count": null,
   "id": "4d374940-fbd6-468b-a855-c496c07b41a9",
   "metadata": {},
   "outputs": [],
   "source": [
    "# resetting society\n",
    "society=[{'name':n,'score':0,'strategy':None} for n in names]\n",
    "\n",
    "# several rounds\n",
    "for aRound in range(100):\n",
    "    \n",
    "    # en each round:\n",
    "    for player1,player2 in itertools.combinations(society,2):\n",
    "        # each chooses strategy\n",
    "        player1['strategy']=choice(strategies)\n",
    "        \n",
    "        player2['strategy']=choice(strategies)\n",
    "        \n",
    "        # result from strategy chosen\n",
    "        result=payoff[player1['strategy'],player2['strategy']]\n",
    "            \n",
    "        # update scores\n",
    "        player1['score']+=result[0]\n",
    "        player2['score']+=result[1]"
   ]
  },
  {
   "cell_type": "code",
   "execution_count": null,
   "id": "afe4626f-ca03-4ff7-930c-09334b719268",
   "metadata": {},
   "outputs": [],
   "source": [
    "# final situation\n",
    "society"
   ]
  },
  {
   "cell_type": "code",
   "execution_count": null,
   "id": "18b49eaf-d23f-43f2-9db0-4316ccbf7f57",
   "metadata": {},
   "outputs": [],
   "source": [
    "# as a data frame\n",
    "socialResults=pd.DataFrame(society)\n",
    "socialResults"
   ]
  },
  {
   "cell_type": "code",
   "execution_count": null,
   "id": "1111da4a-5a44-40b0-88dc-468c26284b11",
   "metadata": {},
   "outputs": [],
   "source": []
  },
  {
   "cell_type": "code",
   "execution_count": null,
   "id": "38dea90c-e8ef-4217-8004-0b8632266d7e",
   "metadata": {},
   "outputs": [],
   "source": []
  }
 ],
 "metadata": {
  "kernelspec": {
   "display_name": "Python 3 (ipykernel)",
   "language": "python",
   "name": "python3"
  },
  "language_info": {
   "codemirror_mode": {
    "name": "ipython",
    "version": 3
   },
   "file_extension": ".py",
   "mimetype": "text/x-python",
   "name": "python",
   "nbconvert_exporter": "python",
   "pygments_lexer": "ipython3",
   "version": "3.11.7"
  }
 },
 "nbformat": 4,
 "nbformat_minor": 5
}
